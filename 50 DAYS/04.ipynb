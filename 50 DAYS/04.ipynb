{
 "cells": [
  {
   "cell_type": "markdown",
   "metadata": {},
   "source": [
    "Day 4: Only Floats \n",
    "\n",
    "Write a function called only_floats, which takes two \n",
    "parameters a and b, and returns 2 if both arguments are floats, \n",
    "returns 1 if only one argument is a float, and returns 0 if neither \n",
    "argument is a float. \n",
    "\n",
    "If you pass (12.1, 23) as an argument, your \n",
    "function should return a 1"
   ]
  },
  {
   "cell_type": "code",
   "execution_count": 5,
   "metadata": {},
   "outputs": [
    {
     "name": "stdout",
     "output_type": "stream",
     "text": [
      "1\n"
     ]
    }
   ],
   "source": [
    "def only_floats (a,b):\n",
    "    if (a % 1 ==0) and (b%1==0):\n",
    "        return 0\n",
    "    elif (a % 1 ==0) or (b%1==0):\n",
    "        return 1\n",
    "    else :\n",
    "        return 2 \n",
    "\n",
    "a,b = (12.2, 23)\n",
    "result = only_floats(a,b)\n",
    "print(result)\n",
    "    "
   ]
  },
  {
   "cell_type": "code",
   "execution_count": 6,
   "metadata": {},
   "outputs": [
    {
     "name": "stdout",
     "output_type": "stream",
     "text": [
      "1\n"
     ]
    }
   ],
   "source": [
    "def float_(a,b):\n",
    "    if isinstance(a,float) and isinstance(b,float):\n",
    "        return 2\n",
    "    elif isinstance(a, float) or isinstance (b, float):\n",
    "        return 1\n",
    "    else :\n",
    "        return 0\n",
    "    \n",
    "a,b = (12.2, 23)\n",
    "result = float_(a,b)\n",
    "print(result)\n",
    "    "
   ]
  },
  {
   "cell_type": "markdown",
   "metadata": {},
   "source": [
    " Index of the Longest Word \n",
    "\n",
    "Write a function called word_index that takes one argument, \n",
    "a list of strings and returns the index of the longest word in the \n",
    "list. \n",
    "\n",
    "If there is no longest word (if all the strings are of the same \n",
    "length), the function should return zero (0).\n",
    "\n",
    " For example, the list  below should return 2. \n",
    "\n",
    "words1 = [\"Hate\", \"remorse\", \"vengeance\"] \n",
    "\n",
    "And this list below, shoul return zero (0) \n",
    "\n",
    "words2 = [\"Love\", \"Hate\"] "
   ]
  },
  {
   "cell_type": "code",
   "execution_count": 10,
   "metadata": {},
   "outputs": [
    {
     "name": "stdout",
     "output_type": "stream",
     "text": [
      "appl\n"
     ]
    }
   ],
   "source": [
    "list1=['appl', 'ball', 'catt']\n",
    "longest_word = ''\n",
    "for a in list1:\n",
    "    if len(a) > len(longest_word):\n",
    "        longest_word=a\n",
    "print( longest_word)"
   ]
  }
 ],
 "metadata": {
  "kernelspec": {
   "display_name": "Python 3",
   "language": "python",
   "name": "python3"
  },
  "language_info": {
   "codemirror_mode": {
    "name": "ipython",
    "version": 3
   },
   "file_extension": ".py",
   "mimetype": "text/x-python",
   "name": "python",
   "nbconvert_exporter": "python",
   "pygments_lexer": "ipython3",
   "version": "3.7.6"
  }
 },
 "nbformat": 4,
 "nbformat_minor": 2
}
