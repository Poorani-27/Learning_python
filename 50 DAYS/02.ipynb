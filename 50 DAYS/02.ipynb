{
 "cells": [
  {
   "cell_type": "markdown",
   "metadata": {},
   "source": [
    "\n",
    "\n",
    "Strings to Integers \n",
    "\n",
    "Write a function called convert_add that takes a list of strings \n",
    "as an argument and converts it to integers and sums the list.\n",
    "\n",
    " For  example [‘1’, ‘3’, ‘5’] should be converted to [1, 3, 5] and \n",
    "summed to 9. "
   ]
  },
  {
   "cell_type": "code",
   "execution_count": 5,
   "metadata": {},
   "outputs": [
    {
     "name": "stdout",
     "output_type": "stream",
     "text": [
      "9\n"
     ]
    }
   ],
   "source": [
    "def convert_add(my_list):\n",
    "    my_list2 =[]\n",
    "    for i in my_list :\n",
    "        i = int(i)\n",
    "        my_list2.append(i)\n",
    "    result = sum(my_list2)\n",
    "    print(result)\n",
    "\n",
    "my_list = ['1','3','5']\n",
    "convert_add(my_list)           \n"
   ]
  },
  {
   "cell_type": "markdown",
   "metadata": {},
   "source": [
    "Write a function called check_duplicates that takes a list of \n",
    "strings as an argument. \n",
    "\n",
    "The function should check if the list has \n",
    "any duplicates. If there are duplicates, the function should return \n",
    "the duplicates. If there are no duplicates, the function should \n",
    "return \"No duplicates\". \n",
    "\n",
    "For example, the list of fruits below \n",
    "should return apple as a duplicate and list of names should \n",
    "return \"no duplicates\". \n",
    "\n",
    "fruits = ['apple', 'orange', 'banana', 'apple'] \n",
    "\n",
    "names = ['Yoda', 'Moses', 'Joshua', 'Mark'] "
   ]
  },
  {
   "cell_type": "code",
   "execution_count": 1,
   "metadata": {},
   "outputs": [
    {
     "name": "stdout",
     "output_type": "stream",
     "text": [
      "apple \n",
      " No Duplicates\n",
      "Yoda Moses "
     ]
    }
   ],
   "source": [
    "def check_duplicates(my_list11):\n",
    "    unique_list=[]\n",
    "    duplicates=[]\n",
    "    for i in my_list11 :\n",
    "        if i not in unique_list :\n",
    "            unique_list.append(i)\n",
    "        else :\n",
    "            duplicates.append(i)\n",
    "    if len(my_list11)== len(unique_list):\n",
    "        print(\"\\n No Duplicates\", end=\"\\n\")\n",
    "    else :\n",
    "        for i in duplicates :\n",
    "            print(i , end=\" \")\n",
    "\n",
    "fruits = ['apple', 'orange', 'banana', 'apple'] \n",
    "\n",
    "names = ['Yoda', 'Moses', 'Joshua', 'Mark'] \n",
    "names2 = ['Yoda','Yoda', 'Moses','Moses', 'Joshua', 'Mark'] \n",
    "\n",
    "\n",
    "check_duplicates(fruits)\n",
    "check_duplicates(names)\n",
    "check_duplicates(names2)\n",
    "\n"
   ]
  }
 ],
 "metadata": {
  "kernelspec": {
   "display_name": "Python 3",
   "language": "python",
   "name": "python3"
  },
  "language_info": {
   "codemirror_mode": {
    "name": "ipython",
    "version": 3
   },
   "file_extension": ".py",
   "mimetype": "text/x-python",
   "name": "python",
   "nbconvert_exporter": "python",
   "pygments_lexer": "ipython3",
   "version": "3.7.6"
  }
 },
 "nbformat": 4,
 "nbformat_minor": 2
}
