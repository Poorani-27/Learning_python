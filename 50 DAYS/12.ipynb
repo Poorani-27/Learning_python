{
 "cells": [
  {
   "cell_type": "markdown",
   "metadata": {},
   "source": [
    "Write a function called count_dots. This function takes a \n",
    "string separated by dots as a parameter and counts how many \n",
    "dots are in the string. For example, ‘h.e.l.p.’ should return 4 \n",
    "dots, and ‘he.lp.’ should return 2 dots. "
   ]
  },
  {
   "cell_type": "code",
   "execution_count": 5,
   "metadata": {},
   "outputs": [
    {
     "name": "stdout",
     "output_type": "stream",
     "text": [
      "4\n"
     ]
    }
   ],
   "source": [
    "def count_dots(string1):\n",
    "    count=0\n",
    "    for s in string1 : \n",
    "        \n",
    "        if s  ==\".\":\n",
    "            count +=1\n",
    "    print(count)\n",
    "\n",
    "count_dots(\"h.e.l.p.\")"
   ]
  },
  {
   "cell_type": "markdown",
   "metadata": {},
   "source": [
    "Write a function called age_in_minutes that tells a user how \n",
    "old they are in minutes. Your code should ask the user to \n",
    "enter their year of birth, and it should return their age in \n",
    "minutes (by subtracting their year of birth to the current year). \n",
    "Here are things to look out for: \n",
    "a. The user can only input a 4-digit year of birth. For \n",
    "example, 1930 is a valid year. However, entering any \n",
    "number longer or less than 4 digits long should render \n",
    "input invalid. Notify the user to input a four digits \n",
    "number. \n",
    "b.  If a user enters a year before 1900, your code should \n",
    "tell the user that input is invalid. If the user enters the \n",
    "year after the current year, the code should tell the user, \n",
    "to input a valid year. \n",
    "The code should run until the user inputs a valid year. \n",
    "Your function should return the user's age in minutes. For \n",
    "example, if someone enters 1930, as their year of birth your \n",
    "function should return: \n",
    "You are 48,355,200 minutes old."
   ]
  },
  {
   "cell_type": "code",
   "execution_count": null,
   "metadata": {},
   "outputs": [],
   "source": []
  }
 ],
 "metadata": {
  "kernelspec": {
   "display_name": "Python 3",
   "language": "python",
   "name": "python3"
  },
  "language_info": {
   "codemirror_mode": {
    "name": "ipython",
    "version": 3
   },
   "file_extension": ".py",
   "mimetype": "text/x-python",
   "name": "python",
   "nbconvert_exporter": "python",
   "pygments_lexer": "ipython3",
   "version": "3.7.6"
  }
 },
 "nbformat": 4,
 "nbformat_minor": 2
}
