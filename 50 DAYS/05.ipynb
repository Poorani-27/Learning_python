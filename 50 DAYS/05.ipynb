{
 "cells": [
  {
   "cell_type": "markdown",
   "metadata": {},
   "source": [
    "Day 5: My Discount \n",
    "\n",
    "Create a function called my_discount. The function takes no \n",
    "arguments but asks the user to input the price and the \n",
    "discount (percentage) of the product.\n",
    "Once the user inputs the  price and discount, it calculates the price after the discount. \n",
    "The function should return the price after the discount. \n",
    "\n",
    "For example, if the user enters 150 as price and 15% as the discount, \n",
    "your function should return 127.5."
   ]
  },
  {
   "cell_type": "code",
   "execution_count": 1,
   "metadata": {},
   "outputs": [
    {
     "name": "stdout",
     "output_type": "stream",
     "text": [
      "127.5\n"
     ]
    }
   ],
   "source": [
    "def my_discount(price,discount):\n",
    "    total=price-(price*discount /100)\n",
    "    print(total)\n",
    "my_discount(150,15)"
   ]
  },
  {
   "cell_type": "markdown",
   "metadata": {},
   "source": [
    " Tuple of Student Sex \n",
    "\n",
    "You work for a school and your boss wants to know how many \n",
    "female and male students are enrolled in the school. The school \n",
    "has saved the students in a list.\n",
    " \n",
    " \n",
    " Your task is to write a code that will count how many males and females are in the list. Here is a  list below: \n",
    "students = ['Male', 'Female', 'female', 'male', 'male', 'male', 'female', 'male', 'Female', 'Male', 'Female', 'Male', 'female'] \n",
    "\n",
    "Your code should return a list of tuples. The list above should  return:\n",
    "\n",
    "\n",
    "[(‘Male’,7), (‘female’,6)]\n"
   ]
  },
  {
   "cell_type": "code",
   "execution_count": 3,
   "metadata": {},
   "outputs": [
    {
     "name": "stdout",
     "output_type": "stream",
     "text": [
      "[('male', 7), ('female', 6)]\n"
     ]
    }
   ],
   "source": [
    "def gender(my_list):\n",
    "    female_count = 0\n",
    "    male_count =0\n",
    "    for a in my_list:\n",
    "        if a.lower()==\"male\" :\n",
    "            male_count +=1\n",
    "        else:\n",
    "            female_count +=1\n",
    "    result1=('male',male_count)\n",
    "    result2=('female', female_count)\n",
    "    result=[(result1),(result2)]\n",
    "    print(result)\n",
    "    \n",
    "students = ['Male', 'Female', 'female', 'male', 'male', 'male', 'female', 'male', 'Female', 'Male', 'Female', 'Male', 'female']\n",
    "gender(students)         "
   ]
  }
 ],
 "metadata": {
  "kernelspec": {
   "display_name": "Python 3",
   "language": "python",
   "name": "python3"
  },
  "language_info": {
   "codemirror_mode": {
    "name": "ipython",
    "version": 3
   },
   "file_extension": ".py",
   "mimetype": "text/x-python",
   "name": "python",
   "nbconvert_exporter": "python",
   "pygments_lexer": "ipython3",
   "version": "3.7.6"
  }
 },
 "nbformat": 4,
 "nbformat_minor": 2
}
