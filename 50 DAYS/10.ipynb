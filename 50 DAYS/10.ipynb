{
 "cells": [
  {
   "cell_type": "markdown",
   "metadata": {},
   "source": [
    "Write a function called hide_password that takes no \n",
    "parameters. The function takes an input (a password) from a \n",
    "user and returns a hidden password. For example, if the user \n",
    "enters ‘hello’ as a password the function should return ‘*****’ as \n",
    "a password and tell the user that the password is 5 characters \n",
    "long."
   ]
  },
  {
   "cell_type": "code",
   "execution_count": 5,
   "metadata": {},
   "outputs": [
    {
     "name": "stdout",
     "output_type": "stream",
     "text": [
      "**\n"
     ]
    }
   ],
   "source": [
    "def hide_password(password):\n",
    "    n= len(password)\n",
    "    hidden_password =\"\"\n",
    "    for i in range(n):\n",
    "        hidden_password +=\"*\"\n",
    "    return hidden_password\n",
    "result= hide_password(\"hello\")\n",
    "print(result)"
   ]
  },
  {
   "cell_type": "markdown",
   "metadata": {},
   "source": [
    " A Thousand Separator \n",
    "Your new company has a list of figures saved in a list. The issue \n",
    "is that these numbers have no separator. The numbers are \n",
    "saved in the following format: \n",
    "[1000000, 2356989, 2354672, 9878098]. \n",
    "You have been asked to write a code that will convert each of the \n",
    "numbers in the list into a string. Your code should then add a \n",
    "comma on each number as a thousand separator for \n",
    "readability. When you run your code on the above list, your \n",
    "output should be: \n",
    "[ '1,000,000', '2,356,989', '2,354,672', '9,878,098’] \n",
    "Write a function called convert_numbers that will take one \n",
    "argument, a list of numbers above. "
   ]
  },
  {
   "cell_type": "code",
   "execution_count": 20,
   "metadata": {},
   "outputs": [
    {
     "name": "stdout",
     "output_type": "stream",
     "text": [
      "1,000,000\n",
      "2,356,989\n",
      "2,354,672\n",
      "9,878,098\n"
     ]
    }
   ],
   "source": [
    "def thousand_separator(my_list):\n",
    "    \n",
    "    separated_list = [f\"{num:,}\" for num in my_list]\n",
    "    \n",
    "    for num in separated_list:\n",
    "        print(num)\n",
    "\n",
    "my_list = [1000000, 2356989, 2354672, 9878098]\n",
    "thousand_separator(my_list)\n"
   ]
  }
 ],
 "metadata": {
  "kernelspec": {
   "display_name": "Python 3",
   "language": "python",
   "name": "python3"
  },
  "language_info": {
   "codemirror_mode": {
    "name": "ipython",
    "version": 3
   },
   "file_extension": ".py",
   "mimetype": "text/x-python",
   "name": "python",
   "nbconvert_exporter": "python",
   "pygments_lexer": "ipython3",
   "version": "3.7.6"
  }
 },
 "nbformat": 4,
 "nbformat_minor": 2
}
