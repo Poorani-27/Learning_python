{
 "cells": [
  {
   "cell_type": "markdown",
   "metadata": {},
   "source": [
    "Day 6: User Name Generator \n",
    "\n",
    "Write a function called user_name that generates a username from the user’s email. The code should ask the user to input an \n",
    "email and the code should return everything before the @ sign as their user name.\n",
    "\n",
    "\n",
    "For example, if someone enters  ben@gmail.com, the code should return ben as their user \n",
    "name."
   ]
  },
  {
   "cell_type": "code",
   "execution_count": 13,
   "metadata": {},
   "outputs": [
    {
     "name": "stdout",
     "output_type": "stream",
     "text": [
      "ben"
     ]
    }
   ],
   "source": [
    "def user_name(my_string):\n",
    "    name = []\n",
    "    ans=my_string.index(\"@\")\n",
    "    for i in range(ans):\n",
    "        if my_string[i].isalpha():\n",
    "            name.append(my_string[i])\n",
    "    for a in name :\n",
    "        print(a, end=\"\")      \n",
    "\n",
    "email=\"ben123@gmail.com\"\n",
    "user_name(email)"
   ]
  },
  {
   "cell_type": "markdown",
   "metadata": {},
   "source": [
    "Extra Challenge: Zero Both ends \n",
    "\n",
    "Write a function called zeroed code that takes a list of numbers  as an argument. The code should zero (0) the first and the last number in the list.\n",
    "\n",
    " For example, if the input is [2, 5, 7, 8, 9], \n",
    " \n",
    "your code should return [0, 5, 7, 8, 0]. "
   ]
  },
  {
   "cell_type": "code",
   "execution_count": 15,
   "metadata": {},
   "outputs": [
    {
     "name": "stdout",
     "output_type": "stream",
     "text": [
      "[0, 5, 7, 8, 0]\n"
     ]
    }
   ],
   "source": [
    "def zeroed(my_list):\n",
    "    my_list[0],my_list[-1] = 0,0\n",
    "    print(my_list)\n",
    "    \n",
    "mylist=[2, 5, 7, 8, 9]\n",
    "zeroed(mylist)"
   ]
  }
 ],
 "metadata": {
  "kernelspec": {
   "display_name": "Python 3",
   "language": "python",
   "name": "python3"
  },
  "language_info": {
   "codemirror_mode": {
    "name": "ipython",
    "version": 3
   },
   "file_extension": ".py",
   "mimetype": "text/x-python",
   "name": "python",
   "nbconvert_exporter": "python",
   "pygments_lexer": "ipython3",
   "version": "3.7.6"
  }
 },
 "nbformat": 4,
 "nbformat_minor": 2
}
