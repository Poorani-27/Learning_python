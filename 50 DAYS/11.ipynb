{
 "cells": [
  {
   "cell_type": "markdown",
   "metadata": {},
   "source": [
    "Write a function called swap_values. This function takes a list \n",
    "of numbers and swaps the first element with the last element. \n",
    "For example, if you pass [2, 4,67, 7] as a parameter, your \n",
    "function should return \n",
    "[7, 4, 67, 2]."
   ]
  },
  {
   "cell_type": "code",
   "execution_count": 2,
   "metadata": {},
   "outputs": [
    {
     "name": "stdout",
     "output_type": "stream",
     "text": [
      "[7, 4, 67, 2]\n"
     ]
    }
   ],
   "source": [
    "def swap_values(my_list):\n",
    "    my_list[0], my_list[-1]= my_list[-1],my_list[0]\n",
    "    return my_list\n",
    "my_list=[2,4,67,7]\n",
    "print(swap_values(my_list))"
   ]
  },
  {
   "cell_type": "markdown",
   "metadata": {},
   "source": [
    "Write a function called equal_strings. The function takes two \n",
    "strings as arguments and compares them. If the strings are equal \n",
    "(if they have the same characters and have equal length), it \n",
    "should return True, if they are not, it should return False. For \n",
    "example, ‘love’ and ‘evol’ should return True."
   ]
  },
  {
   "cell_type": "code",
   "execution_count": 17,
   "metadata": {},
   "outputs": [
    {
     "name": "stdout",
     "output_type": "stream",
     "text": [
      "True\n"
     ]
    }
   ],
   "source": [
    "def equal_strings(str1,str2):\n",
    "    if len(str1)==len(str2):\n",
    "        if sorted(str1)==sorted(str2):\n",
    "                return True\n",
    "        else:\n",
    "                return False\n",
    "            \n",
    "    else:\n",
    "        return False\n",
    "    \n",
    "str1,str2= \"love\",\"eolv\"\n",
    "print(equal_strings(str1,str2))"
   ]
  },
  {
   "cell_type": "code",
   "execution_count": null,
   "metadata": {},
   "outputs": [],
   "source": []
  }
 ],
 "metadata": {
  "kernelspec": {
   "display_name": "Python 3",
   "language": "python",
   "name": "python3"
  },
  "language_info": {
   "codemirror_mode": {
    "name": "ipython",
    "version": 3
   },
   "file_extension": ".py",
   "mimetype": "text/x-python",
   "name": "python",
   "nbconvert_exporter": "python",
   "pygments_lexer": "ipython3",
   "version": "3.7.6"
  }
 },
 "nbformat": 4,
 "nbformat_minor": 2
}
