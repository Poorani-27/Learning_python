{
 "cells": [
  {
   "cell_type": "markdown",
   "metadata": {},
   "source": [
    "DIVIDE_AND_SQUARE "
   ]
  },
  {
   "cell_type": "markdown",
   "metadata": {},
   "source": [
    "Day 1:\n",
    "\n",
    " Division and Square-root \n",
    "\n",
    "Write a function called divide_or_square that takes one \n",
    "argument (a number), and returns the square root of the number \n",
    "if it is divisible by 5, returns its remainder if it is not divisible by \n",
    "5. \n",
    "\n",
    "For example, if you pass 10 as an argument, then your function \n",
    "should return 3.16 as the square root. "
   ]
  },
  {
   "cell_type": "markdown",
   "metadata": {},
   "source": [
    "APPROACH 1 \n",
    "\n",
    "Time Complexity: O(1)\n",
    "\n",
    "Space Complexity: O(1)\n"
   ]
  },
  {
   "cell_type": "code",
   "execution_count": 12,
   "metadata": {},
   "outputs": [
    {
     "name": "stdout",
     "output_type": "stream",
     "text": [
      "2.23606797749979\n"
     ]
    }
   ],
   "source": [
    "from math import sqrt\n",
    "def divide_or_square(num):\n",
    "    if num %5==0:\n",
    "        answer =sqrt(num)\n",
    "        return answer\n",
    "    else :\n",
    "        return (num%5)\n",
    "n=int(input(\"Enter a number : \"))\n",
    "result= divide_or_square(n)\n",
    "print(result)"
   ]
  },
  {
   "cell_type": "markdown",
   "metadata": {},
   "source": [
    "APPROACH 2\n",
    "\n",
    "Time Complexity: O(1)\n",
    "\n",
    "Space Complexity: O(1)\n",
    "\n"
   ]
  },
  {
   "cell_type": "code",
   "execution_count": 16,
   "metadata": {},
   "outputs": [
    {
     "name": "stdout",
     "output_type": "stream",
     "text": [
      "2.23606797749979\n"
     ]
    }
   ],
   "source": [
    "def square_root(num):\n",
    "    if num < 0:\n",
    "        print(\"Square root can't be calculated for negative numbers\")\n",
    "    elif num == 0:\n",
    "        return 0\n",
    "    else:\n",
    "        x = num\n",
    "        y = (x + 1) /2\n",
    "        while y < x:\n",
    "            x = y\n",
    "            y = (x + num / x) / 2\n",
    "        return x\n",
    "\n",
    "\n",
    "def divide_or_square(num):\n",
    "    if num % 5 == 0:\n",
    "        answer = square_root(num)\n",
    "        return answer\n",
    "    else:\n",
    "        return num % 5\n",
    "\n",
    "\n",
    "n = int(input(\"Enter a number: \"))\n",
    "result = divide_or_square(n)\n",
    "print(result)\n"
   ]
  },
  {
   "cell_type": "markdown",
   "metadata": {},
   "source": [
    "LONGEST_VALUE\n",
    "\n",
    "\n",
    "Write a function called longest_value that takes a dictionary \n",
    "as an argument and returns the first longest value of the \n",
    "dictionary.\n",
    "\n",
    "\n",
    " For example, the following dictionary should return – apple as the longest value. \n",
    "\n",
    " \n",
    "fruits = {'fruit': 'apple', 'color': 'green'} \n",
    "\n",
    "\n",
    "\n",
    "\n"
   ]
  },
  {
   "cell_type": "code",
   "execution_count": 20,
   "metadata": {},
   "outputs": [
    {
     "name": "stdout",
     "output_type": "stream",
     "text": [
      "Dictionary :  {'fruit': 'apple', 'shape': 'circle', 'color': 'red'}\n",
      "Longest Value :  circle\n"
     ]
    }
   ],
   "source": [
    "\n",
    "def longest_value(my_dict):\n",
    "    max_length = 0\n",
    "    longest_value = \"\"\n",
    "\n",
    "    for value in my_dict.values():\n",
    "        if len(value) > max_length:\n",
    "            max_length = len(value)\n",
    "            longest_value = value\n",
    "\n",
    "    return longest_value\n",
    "\n",
    "\n",
    "my_dict={}\n",
    "n= int(input(\"Enter the number of key value pairs : \"))\n",
    "while True :\n",
    "    try :\n",
    "        for i in range(n):\n",
    "            my_key = input(\"Enter Key : \")\n",
    "            my_values = input(\"Enter Value : \")\n",
    "            my_dict[my_key] = my_values\n",
    "        print(\"Dictionary : \",my_dict)\n",
    "        break\n",
    "    except Exception as e :\n",
    "        print(\"Error : \", e)\n",
    "    \n",
    "\n",
    "result = longest_value(my_dict)\n",
    "print(\"Longest Value : \",result)"
   ]
  }
 ],
 "metadata": {
  "kernelspec": {
   "display_name": "Python 3",
   "language": "python",
   "name": "python3"
  },
  "language_info": {
   "codemirror_mode": {
    "name": "ipython",
    "version": 3
   },
   "file_extension": ".py",
   "mimetype": "text/x-python",
   "name": "python",
   "nbconvert_exporter": "python",
   "pygments_lexer": "ipython3",
   "version": "3.7.6"
  }
 },
 "nbformat": 4,
 "nbformat_minor": 2
}
