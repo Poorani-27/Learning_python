{
 "cells": [
  {
   "cell_type": "markdown",
   "metadata": {},
   "source": [
    " Register Check \n",
    "\n",
    "Write a function called register_check that checks how many \n",
    "students are in school. The function takes a dictionary as a \n",
    "parameter. \n",
    "\n",
    "If the student is in school, the dictionary says ‘yes’. If \n",
    "the student is not in school, the dictionary says ‘no’.\n",
    "\n",
    " Your \n",
    "function should return the number of students in school. Use the \n",
    "dictionary below.\n",
    "\n",
    "register = {\n",
    "    'Michael' : 'yes'\n",
    "    'john' : 'no'\n",
    "    'peter': 'yes'\n",
    "    'Mary': ''yes'\n",
    "    }\n",
    " Your function should return 3. "
   ]
  },
  {
   "cell_type": "code",
   "execution_count": 4,
   "metadata": {},
   "outputs": [
    {
     "name": "stdout",
     "output_type": "stream",
     "text": [
      "3\n"
     ]
    }
   ],
   "source": [
    "\n",
    "def check_register(register):\n",
    "    count =0\n",
    "\n",
    "    for value in register.values():\n",
    "    \n",
    "        if value.lower() == 'yes':\n",
    "            count +=1\n",
    "    return count\n",
    "\n",
    "register = {\n",
    "    'Michael' : 'yes',\n",
    "    'john' : 'no',\n",
    "    'peter': 'yes',\n",
    "    'Mary': 'yes'\n",
    "    }\n",
    "\n",
    "result = check_register(register)\n",
    "print(result)"
   ]
  },
  {
   "cell_type": "markdown",
   "metadata": {},
   "source": [
    "Lowercase Names \n",
    "\n",
    "\n",
    "names = [\"kerry\", \"dickson\", \"John\", \"Mary\",  \"carol\", \"Rose\", \"adam\"] \n",
    "\n",
    "\n",
    "You are given a list of names above. This list is made up of names \n",
    "of lowercase and uppercase letters. Your task is to write a code \n",
    "that will return a tuple of all the names in the list that have only \n",
    "lowercase letters. \n",
    "\n",
    "Your tuple should have names sorted \n",
    "alphabetically in descending order. \n",
    "\n",
    "Using the list above, your \n",
    "code should return: \n",
    "\n",
    "\n",
    "('kerry', 'dickson', 'carol', 'adam')"
   ]
  },
  {
   "cell_type": "code",
   "execution_count": 6,
   "metadata": {},
   "outputs": [
    {
     "name": "stdout",
     "output_type": "stream",
     "text": [
      "('kerry', 'dickson', 'carol', 'adam')\n"
     ]
    }
   ],
   "source": [
    "def lower_case(my_list):\n",
    "    tup=[]\n",
    "    for i in my_list:\n",
    "        if i.islower():\n",
    "            tup.append(i)\n",
    "    return tuple(tup)\n",
    "\n",
    "names = [\"kerry\", \"dickson\", \"John\", \"Mary\",  \"carol\", \"Rose\", \"adam\"] \n",
    "result = lower_case(names)\n",
    "print(result)\n",
    "\n"
   ]
  }
 ],
 "metadata": {
  "kernelspec": {
   "display_name": "Python 3",
   "language": "python",
   "name": "python3"
  },
  "language_info": {
   "codemirror_mode": {
    "name": "ipython",
    "version": 3
   },
   "file_extension": ".py",
   "mimetype": "text/x-python",
   "name": "python",
   "nbconvert_exporter": "python",
   "pygments_lexer": "ipython3",
   "version": "3.7.6"
  }
 },
 "nbformat": 4,
 "nbformat_minor": 2
}
