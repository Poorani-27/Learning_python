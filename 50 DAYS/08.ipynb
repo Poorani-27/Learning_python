{
 "cells": [
  {
   "cell_type": "markdown",
   "metadata": {},
   "source": [
    "Day 8: Odd and Even \n",
    "\n",
    "Write a function called odd_even that has one parameter and takes a list of numbers as an argument. The function returns the difference between the largest even number in the list and the \n",
    "smallest odd number in the list. \n",
    "For example, if you pass [1,2,4,6] as an argument the function should return 6 -1= 5. "
   ]
  },
  {
   "cell_type": "code",
   "execution_count": 1,
   "metadata": {},
   "outputs": [
    {
     "name": "stdout",
     "output_type": "stream",
     "text": [
      "5\n"
     ]
    }
   ],
   "source": [
    "def odd_and_even(my_list):\n",
    "    even_list=[]  \n",
    "    odd_list=[]\n",
    "    for l in my_list:\n",
    "        if l%2==0:\n",
    "            even_list.append(l)\n",
    "        else :\n",
    "            odd_list.append(l)\n",
    "    print(max(even_list)-min(odd_list))\n",
    "\n",
    "my_list=[1,2,4,5,4,3,6]\n",
    "odd_and_even(my_list)    "
   ]
  },
  {
   "cell_type": "markdown",
   "metadata": {},
   "source": [
    "List of Prime Numbers \n",
    "\n",
    "Write a function called prime_numbers. This function asks a user to enter a number (integer) as an argument and returns a \n",
    "list of all the prime numbers within its range. \n",
    "For example, if user enters 10, your code should return [2, 3, 5, 7] as prime numbers."
   ]
  },
  {
   "cell_type": "code",
   "execution_count": 3,
   "metadata": {},
   "outputs": [
    {
     "name": "stdout",
     "output_type": "stream",
     "text": [
      "List of prime numbers up to 5 :\n",
      "[2, 3, 5]\n"
     ]
    }
   ],
   "source": [
    "def is_prime(num):\n",
    "    if num <= 1:\n",
    "        return False\n",
    "    for i in range(2, num):\n",
    "        if num % i == 0:\n",
    "            return False\n",
    "    return True\n",
    "\n",
    "def print_primes(n):\n",
    "    primes = []\n",
    "    for i in range(2, n + 1):\n",
    "        if is_prime(i):\n",
    "            primes.append(i)\n",
    "    return primes\n",
    "\n",
    "\n",
    "n = 5\n",
    "\n",
    "print(\"List of prime numbers up to\", n, \":\")\n",
    "print(print_primes(n))\n"
   ]
  }
 ],
 "metadata": {
  "kernelspec": {
   "display_name": "Python 3",
   "language": "python",
   "name": "python3"
  },
  "language_info": {
   "codemirror_mode": {
    "name": "ipython",
    "version": 3
   },
   "file_extension": ".py",
   "mimetype": "text/x-python",
   "name": "python",
   "nbconvert_exporter": "python",
   "pygments_lexer": "ipython3",
   "version": "3.7.6"
  }
 },
 "nbformat": 4,
 "nbformat_minor": 2
}
