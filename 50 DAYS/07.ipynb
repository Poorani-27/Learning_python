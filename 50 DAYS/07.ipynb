{
 "cells": [
  {
   "cell_type": "markdown",
   "metadata": {},
   "source": [
    "Day 7: A String Range \n",
    "\n",
    "Write a function called string_range that takes a single number and returns a string of its range. The string characters should be separated by dots(.) \n",
    "\n",
    "For example, if you pass 6 as an argument, your function should return ‘0.1.2.3.4.5’. \n"
   ]
  },
  {
   "cell_type": "code",
   "execution_count": 8,
   "metadata": {},
   "outputs": [
    {
     "name": "stdout",
     "output_type": "stream",
     "text": [
      "0.1.2.3.4.5\n"
     ]
    }
   ],
   "source": [
    "def string_range(num):\n",
    "    for i in range(num):\n",
    "        ans=\".\" .join(str(x) for x in range(i+1))\n",
    "    print(ans)\n",
    "    \n",
    "string_range(6)"
   ]
  },
  {
   "cell_type": "markdown",
   "metadata": {},
   "source": [
    "Extra Challenge: Dictionary of names \n",
    "\n",
    "You are given a list of names, and you are asked to write a code that returns all the names that start with ‘S’. Your code should return a dictionary of all the names that start with S and how many times they appear in the dictionary. Here is a list below: \n",
    "\n",
    "names = [\"Joseph\",\"Nathan\", \"Sasha\", \"Kelly\", \"Muhammad\", \"Jabulani\", \"Sera”, \"Patel\", \"Sera”] \n",
    "\n",
    "Your code should return: {“Sasha”: 1, “Sera”: 2} "
   ]
  },
  {
   "cell_type": "code",
   "execution_count": 17,
   "metadata": {},
   "outputs": [
    {
     "name": "stdout",
     "output_type": "stream",
     "text": [
      "{'Sasha': 1, 'Sera': 2}\n"
     ]
    }
   ],
   "source": [
    "def frequency(my_list, letter):\n",
    "    new_list = [name.capitalize() for name in my_list if name[0].lower() == letter.lower()]\n",
    "    frequency = {}\n",
    "    for name in new_list:\n",
    "        frequency[name] = frequency.get(name, 0) + 1\n",
    "    print(frequency)\n",
    "\n",
    "my_list = [\"joseph\", \"nandha\", \"sasha\", \"kelly\", \"jabulani\", \"Sera\", \"Patel\", \"Sera\"] \n",
    "letter = \"s\"\n",
    "\n",
    "frequency(my_list, letter)\n"
   ]
  },
  {
   "cell_type": "markdown",
   "metadata": {},
   "source": []
  }
 ],
 "metadata": {
  "kernelspec": {
   "display_name": "Python 3",
   "language": "python",
   "name": "python3"
  },
  "language_info": {
   "codemirror_mode": {
    "name": "ipython",
    "version": 3
   },
   "file_extension": ".py",
   "mimetype": "text/x-python",
   "name": "python",
   "nbconvert_exporter": "python",
   "pygments_lexer": "ipython3",
   "version": "3.7.6"
  }
 },
 "nbformat": 4,
 "nbformat_minor": 2
}
